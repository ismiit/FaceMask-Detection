{
 "cells": [
  {
   "cell_type": "code",
   "execution_count": 1,
   "id": "14f68709",
   "metadata": {},
   "outputs": [],
   "source": [
    "import pandas as pd\n",
    "import numpy as np\n",
    "import matplotlib.pyplot as plt\n",
    "import seaborn as sns\n",
    "import cv2\n",
    "import tensorflow as tf\n",
    "import keras\n",
    "import sys\n",
    "import os\n",
    "import random\n",
    "import datetime\n",
    "from sklearn.model_selection import train_test_split\n",
    "from sklearn.preprocessing import OneHotEncoder,OrdinalEncoder\n",
    "from sklearn.metrics import accuracy_score, classification_report\n",
    "from keras.models import Sequential\n",
    "from keras.layers import Conv2D, MaxPool2D, Dense, Dropout, BatchNormalization, Flatten, AveragePooling2D\n",
    "from keras import Input\n",
    "from keras.datasets import fashion_mnist\n",
    "from tensorflow.keras.utils import to_categorical\n",
    "from keras import layers\n",
    "from tensorflow.keras.preprocessing.image import ImageDataGenerator\n",
    "from tensorflow.keras.applications.vgg16 import VGG16\n",
    "from tensorflow.keras.applications.vgg19 import VGG19\n",
    "from tensorflow.keras.applications import MobileNetV2\n",
    "from tensorflow.keras.models import Model\n",
    "from tensorflow.keras.optimizers import Adam\n",
    "from sklearn.preprocessing import LabelBinarizer\n"
   ]
  },
  {
   "cell_type": "code",
   "execution_count": 2,
   "id": "aa84ab99",
   "metadata": {},
   "outputs": [],
   "source": [
    "main_dir = os.path.dirname(sys.path[0])\n",
    "family_link = main_dir+'/recognize_family/data/family/'"
   ]
  },
  {
   "cell_type": "code",
   "execution_count": 3,
   "id": "b7ebd2b2",
   "metadata": {},
   "outputs": [],
   "source": [
    "labels = set(['with_mask','without_mask'])\n",
    "\n",
    "image_paths = []\n",
    "image_labels = []\n",
    "\n",
    "for label in labels:\n",
    "    for image in list(os.listdir(family_link+label)):\n",
    "        image_paths = image_paths + [family_link + label + '/' +image]\n",
    "        image_labels = image_labels + [label]"
   ]
  },
  {
   "cell_type": "code",
   "execution_count": 4,
   "id": "d26c9e67",
   "metadata": {},
   "outputs": [],
   "source": [
    "data = []\n",
    "for img in image_paths:\n",
    "    image = cv2.imread(img)\n",
    "    image = cv2.resize(image,(224,224))\n",
    "    data.append(image)"
   ]
  },
  {
   "cell_type": "code",
   "execution_count": 5,
   "id": "6cd677e3",
   "metadata": {},
   "outputs": [],
   "source": [
    "X = np.array(data,dtype='float')\n",
    "y = np.array(image_labels)"
   ]
  },
  {
   "cell_type": "code",
   "execution_count": 6,
   "id": "f0aed521",
   "metadata": {},
   "outputs": [],
   "source": [
    "lb = LabelBinarizer()\n",
    "y = lb.fit_transform(y.reshape(-1,1))\n",
    "y = to_categorical(y)"
   ]
  },
  {
   "cell_type": "code",
   "execution_count": 7,
   "id": "c4b100af",
   "metadata": {},
   "outputs": [],
   "source": [
    "X_train, X_test, y_train, y_test = train_test_split(X,y, test_size=0.2)"
   ]
  },
  {
   "cell_type": "code",
   "execution_count": 8,
   "id": "25332aa1",
   "metadata": {},
   "outputs": [],
   "source": [
    "aug = ImageDataGenerator(rotation_range=20,zoom_range=0.15,width_shift_range=0.2,height_shift_range=0.2,shear_range=0.15,horizontal_flip=True,fill_mode='nearest')"
   ]
  },
  {
   "cell_type": "code",
   "execution_count": 9,
   "id": "c6465a7e",
   "metadata": {},
   "outputs": [],
   "source": [
    "base_model = VGG19(weights='imagenet',include_top=False,input_tensor=Input(shape=(224,224,3)))\n",
    "\n",
    "head_model = base_model.output\n",
    "head_model = AveragePooling2D(pool_size=(2,2))(head_model)\n",
    "head_model = Flatten(name='Flatten')(head_model)\n",
    "head_model = Dense(128,activation='relu')(head_model)\n",
    "head_model = Dropout(0.5)(head_model)\n",
    "head_model = Dense(2,activation='softmax')(head_model)\n",
    "\n",
    "model = Model(inputs=base_model.input,outputs=head_model)"
   ]
  },
  {
   "cell_type": "code",
   "execution_count": 10,
   "id": "7c4d9459",
   "metadata": {},
   "outputs": [],
   "source": [
    "INIT_LR = 1e-4\n",
    "EPOCHS = 20\n",
    "BS = 32"
   ]
  },
  {
   "cell_type": "code",
   "execution_count": 11,
   "id": "204fe5d4",
   "metadata": {},
   "outputs": [
    {
     "name": "stdout",
     "output_type": "stream",
     "text": [
      "Model: \"model\"\n",
      "_________________________________________________________________\n",
      " Layer (type)                Output Shape              Param #   \n",
      "=================================================================\n",
      " input_1 (InputLayer)        [(None, 224, 224, 3)]     0         \n",
      "                                                                 \n",
      " block1_conv1 (Conv2D)       (None, 224, 224, 64)      1792      \n",
      "                                                                 \n",
      " block1_conv2 (Conv2D)       (None, 224, 224, 64)      36928     \n",
      "                                                                 \n",
      " block1_pool (MaxPooling2D)  (None, 112, 112, 64)      0         \n",
      "                                                                 \n",
      " block2_conv1 (Conv2D)       (None, 112, 112, 128)     73856     \n",
      "                                                                 \n",
      " block2_conv2 (Conv2D)       (None, 112, 112, 128)     147584    \n",
      "                                                                 \n",
      " block2_pool (MaxPooling2D)  (None, 56, 56, 128)       0         \n",
      "                                                                 \n",
      " block3_conv1 (Conv2D)       (None, 56, 56, 256)       295168    \n",
      "                                                                 \n",
      " block3_conv2 (Conv2D)       (None, 56, 56, 256)       590080    \n",
      "                                                                 \n",
      " block3_conv3 (Conv2D)       (None, 56, 56, 256)       590080    \n",
      "                                                                 \n",
      " block3_conv4 (Conv2D)       (None, 56, 56, 256)       590080    \n",
      "                                                                 \n",
      " block3_pool (MaxPooling2D)  (None, 28, 28, 256)       0         \n",
      "                                                                 \n",
      " block4_conv1 (Conv2D)       (None, 28, 28, 512)       1180160   \n",
      "                                                                 \n",
      " block4_conv2 (Conv2D)       (None, 28, 28, 512)       2359808   \n",
      "                                                                 \n",
      " block4_conv3 (Conv2D)       (None, 28, 28, 512)       2359808   \n",
      "                                                                 \n",
      " block4_conv4 (Conv2D)       (None, 28, 28, 512)       2359808   \n",
      "                                                                 \n",
      " block4_pool (MaxPooling2D)  (None, 14, 14, 512)       0         \n",
      "                                                                 \n",
      " block5_conv1 (Conv2D)       (None, 14, 14, 512)       2359808   \n",
      "                                                                 \n",
      " block5_conv2 (Conv2D)       (None, 14, 14, 512)       2359808   \n",
      "                                                                 \n",
      " block5_conv3 (Conv2D)       (None, 14, 14, 512)       2359808   \n",
      "                                                                 \n",
      " block5_conv4 (Conv2D)       (None, 14, 14, 512)       2359808   \n",
      "                                                                 \n",
      " block5_pool (MaxPooling2D)  (None, 7, 7, 512)         0         \n",
      "                                                                 \n",
      " average_pooling2d (AverageP  (None, 3, 3, 512)        0         \n",
      " ooling2D)                                                       \n",
      "                                                                 \n",
      " Flatten (Flatten)           (None, 4608)              0         \n",
      "                                                                 \n",
      " dense (Dense)               (None, 128)               589952    \n",
      "                                                                 \n",
      " dropout (Dropout)           (None, 128)               0         \n",
      "                                                                 \n",
      " dense_1 (Dense)             (None, 2)                 258       \n",
      "                                                                 \n",
      "=================================================================\n",
      "Total params: 20,614,594\n",
      "Trainable params: 590,210\n",
      "Non-trainable params: 20,024,384\n",
      "_________________________________________________________________\n"
     ]
    }
   ],
   "source": [
    "for layer in base_model.layers:\n",
    "    layer.trainable = False\n",
    "\n",
    "opt = Adam(learning_rate=INIT_LR, decay=INIT_LR / EPOCHS)\n",
    "\n",
    "model.compile(optimizer=opt,loss=\"binary_crossentropy\",metrics=['accuracy'])\n",
    "\n",
    "model.summary()"
   ]
  },
  {
   "cell_type": "code",
   "execution_count": 12,
   "id": "9f238647",
   "metadata": {},
   "outputs": [
    {
     "name": "stdout",
     "output_type": "stream",
     "text": [
      "Epoch 1/20\n",
      "189/189 [==============================] - 2179s 12s/step - loss: 0.8593 - accuracy: 0.8994 - val_loss: 0.0707 - val_accuracy: 0.9848\n",
      "Epoch 2/20\n",
      "189/189 [==============================] - 2594s 14s/step - loss: 0.2482 - accuracy: 0.9591 - val_loss: 0.0487 - val_accuracy: 0.9881\n",
      "Epoch 3/20\n",
      "189/189 [==============================] - 2654s 14s/step - loss: 0.1476 - accuracy: 0.9712 - val_loss: 0.0393 - val_accuracy: 0.9907\n",
      "Epoch 4/20\n",
      "189/189 [==============================] - 2411s 13s/step - loss: 0.1229 - accuracy: 0.9732 - val_loss: 0.0252 - val_accuracy: 0.9934\n",
      "Epoch 5/20\n",
      "189/189 [==============================] - 2405s 13s/step - loss: 0.0934 - accuracy: 0.9786 - val_loss: 0.0248 - val_accuracy: 0.9927\n",
      "Epoch 6/20\n",
      "189/189 [==============================] - 2022s 11s/step - loss: 0.0803 - accuracy: 0.9810 - val_loss: 0.0218 - val_accuracy: 0.9960\n",
      "Epoch 7/20\n",
      "189/189 [==============================] - 2050s 11s/step - loss: 0.0790 - accuracy: 0.9790 - val_loss: 0.0211 - val_accuracy: 0.9940\n",
      "Epoch 8/20\n",
      "189/189 [==============================] - 2089s 11s/step - loss: 0.0661 - accuracy: 0.9831 - val_loss: 0.0211 - val_accuracy: 0.9934\n",
      "Epoch 9/20\n",
      "189/189 [==============================] - 2005s 11s/step - loss: 0.0586 - accuracy: 0.9820 - val_loss: 0.0225 - val_accuracy: 0.9934\n",
      "Epoch 10/20\n",
      "189/189 [==============================] - 2002s 11s/step - loss: 0.0530 - accuracy: 0.9849 - val_loss: 0.0160 - val_accuracy: 0.9947\n",
      "Epoch 11/20\n",
      "189/189 [==============================] - 2005s 11s/step - loss: 0.0515 - accuracy: 0.9863 - val_loss: 0.0166 - val_accuracy: 0.9934\n",
      "Epoch 12/20\n",
      "189/189 [==============================] - 2123s 11s/step - loss: 0.0435 - accuracy: 0.9878 - val_loss: 0.0164 - val_accuracy: 0.9954\n",
      "Epoch 13/20\n",
      "189/189 [==============================] - 2150s 11s/step - loss: 0.0435 - accuracy: 0.9869 - val_loss: 0.0159 - val_accuracy: 0.9934\n",
      "Epoch 14/20\n",
      "189/189 [==============================] - 2158s 11s/step - loss: 0.0492 - accuracy: 0.9858 - val_loss: 0.0172 - val_accuracy: 0.9934\n",
      "Epoch 15/20\n",
      "189/189 [==============================] - 2167s 11s/step - loss: 0.0389 - accuracy: 0.9884 - val_loss: 0.0171 - val_accuracy: 0.9940\n",
      "Epoch 16/20\n",
      "189/189 [==============================] - 2162s 11s/step - loss: 0.0386 - accuracy: 0.9892 - val_loss: 0.0138 - val_accuracy: 0.9954\n",
      "Epoch 17/20\n",
      "189/189 [==============================] - 2164s 11s/step - loss: 0.0339 - accuracy: 0.9899 - val_loss: 0.0147 - val_accuracy: 0.9954\n",
      "Epoch 18/20\n",
      "189/189 [==============================] - 2162s 11s/step - loss: 0.0320 - accuracy: 0.9892 - val_loss: 0.0165 - val_accuracy: 0.9947\n",
      "Epoch 19/20\n",
      "189/189 [==============================] - 2164s 11s/step - loss: 0.0359 - accuracy: 0.9894 - val_loss: 0.0160 - val_accuracy: 0.9954\n",
      "Epoch 20/20\n",
      "189/189 [==============================] - 2169s 11s/step - loss: 0.0416 - accuracy: 0.9869 - val_loss: 0.0155 - val_accuracy: 0.9934\n"
     ]
    }
   ],
   "source": [
    "model_run = model.fit(aug.flow(X_train, y_train, batch_size=BS),validation_data=(X_test, y_test),epochs=EPOCHS)"
   ]
  },
  {
   "cell_type": "code",
   "execution_count": 13,
   "id": "5dcc70a5",
   "metadata": {},
   "outputs": [
    {
     "name": "stdout",
     "output_type": "stream",
     "text": [
      "48/48 [==============================] - 425s 9s/step - loss: 0.0155 - accuracy: 0.9934\n",
      "loss :  0.015534164384007454\n",
      "accuracy :  99.33818578720093\n"
     ]
    }
   ],
   "source": [
    "loss, acc = model.evaluate(X_test,y_test)\n",
    "\n",
    "print('loss : ',loss)\n",
    "print('accuracy : ',acc*100)"
   ]
  },
  {
   "cell_type": "code",
   "execution_count": 14,
   "id": "d52d2cf1",
   "metadata": {},
   "outputs": [],
   "source": [
    "model.save(\"vgg_mask_detector.model\", save_format=\"h5\")"
   ]
  }
 ],
 "metadata": {
  "kernelspec": {
   "display_name": "Python 3 (ipykernel)",
   "language": "python",
   "name": "python3"
  },
  "language_info": {
   "codemirror_mode": {
    "name": "ipython",
    "version": 3
   },
   "file_extension": ".py",
   "mimetype": "text/x-python",
   "name": "python",
   "nbconvert_exporter": "python",
   "pygments_lexer": "ipython3",
   "version": "3.9.7"
  }
 },
 "nbformat": 4,
 "nbformat_minor": 5
}
